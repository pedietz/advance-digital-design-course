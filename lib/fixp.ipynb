{
 "cells": [
  {
   "cell_type": "code",
   "execution_count": 1,
   "id": "2cc4facc",
   "metadata": {},
   "outputs": [],
   "source": [
    "import math"
   ]
  },
  {
   "cell_type": "markdown",
   "id": "36fd3664",
   "metadata": {},
   "source": [
    "# Truncating and Rounding: Overview"
   ]
  },
  {
   "cell_type": "code",
   "execution_count": 2,
   "id": "31774efb",
   "metadata": {},
   "outputs": [
    {
     "data": {
      "text/plain": [
       "-1.65484398"
      ]
     },
     "execution_count": 2,
     "metadata": {},
     "output_type": "execute_result"
    }
   ],
   "source": [
    "value = -1.65484398\n",
    "frac_width = 3\n",
    "value"
   ]
  },
  {
   "cell_type": "code",
   "execution_count": 3,
   "id": "b5371273",
   "metadata": {},
   "outputs": [
    {
     "data": {
      "text/plain": [
       "-13.23875184"
      ]
     },
     "execution_count": 3,
     "metadata": {},
     "output_type": "execute_result"
    }
   ],
   "source": [
    "# scale\n",
    "aux = value * 2.0**frac_width\n",
    "aux"
   ]
  },
  {
   "cell_type": "code",
   "execution_count": 4,
   "id": "9dbf5b67",
   "metadata": {},
   "outputs": [
    {
     "data": {
      "text/plain": [
       "-14"
      ]
     },
     "execution_count": 4,
     "metadata": {},
     "output_type": "execute_result"
    }
   ],
   "source": [
    "# truncating\n",
    "ret = math.floor(aux) if aux < 0 else int(aux)\n",
    "ret"
   ]
  },
  {
   "cell_type": "code",
   "execution_count": 5,
   "id": "e15f046c",
   "metadata": {},
   "outputs": [
    {
     "data": {
      "text/plain": [
       "-13"
      ]
     },
     "execution_count": 5,
     "metadata": {},
     "output_type": "execute_result"
    }
   ],
   "source": [
    "# round up\n",
    "frac = math.modf(aux)[0]\n",
    "ret = math.ceil(aux) if math.isclose(abs(frac), 0.5, rel_tol=1e-18) else round(aux) # always round 0.5 up\n",
    "ret"
   ]
  },
  {
   "cell_type": "code",
   "execution_count": 6,
   "id": "450548a7",
   "metadata": {},
   "outputs": [
    {
     "data": {
      "text/plain": [
       "-13"
      ]
     },
     "execution_count": 6,
     "metadata": {},
     "output_type": "execute_result"
    }
   ],
   "source": [
    "# half to even or banker's rounding\n",
    "ret = round(aux)\n",
    "ret"
   ]
  },
  {
   "cell_type": "code",
   "execution_count": 7,
   "id": "108c25f6",
   "metadata": {},
   "outputs": [
    {
     "data": {
      "text/plain": [
       "-1.625"
      ]
     },
     "execution_count": 7,
     "metadata": {},
     "output_type": "execute_result"
    }
   ],
   "source": [
    "# to floating point representation again:\n",
    "ret/2.0**frac_width"
   ]
  },
  {
   "cell_type": "markdown",
   "id": "2a6264a0",
   "metadata": {},
   "source": [
    "# Truncating and Rounding: Implementation"
   ]
  },
  {
   "cell_type": "code",
   "execution_count": null,
   "id": "4a82a6c2",
   "metadata": {},
   "outputs": [],
   "source": [
    "from __future__ import annotations\n",
    "from dataclasses import dataclass, field\n",
    "from numbers import Real\n",
    "from typing import Callable\n",
    "\n",
    "# Saturation strategies:\n",
    "\n",
    "@staticmethod\n",
    "def saturate(value: int, limits: tuple[int, int]) -> int:\n",
    "    min_value, max_value = limits\n",
    "    return max_value if value > max_value else min_value if value < min_value else value\n",
    "\n",
    "@staticmethod\n",
    "def wrap(value: int, limits: tuple[int, int]) -> int:\n",
    "    min_value, max_value = limits\n",
    "    return value - max_value + min_value - 1 if value > max_value else \\\n",
    "           value + max_value - min_value + 1 if value < min_value else value\n",
    "\n",
    "# Rounding strategies:\n",
    "\n",
    "@staticmethod\n",
    "def truncate(value: Real) -> int:\n",
    "    return math.floor(value) if aux < 0 else int(value)\n",
    "\n",
    "@staticmethod\n",
    "def round_half_up(value: Real) -> int:\n",
    "    frac = math.modf(value)[0]\n",
    "    return math.ceil(value) if math.isclose(abs(frac), 0.5, rel_tol=1e-18) else round(value)\n",
    "\n",
    "@staticmethod\n",
    "def round_half_dw(value: Real) -> int:\n",
    "    frac = math.modf(value)[0]\n",
    "    return math.floor(value) if math.isclose(abs(frac), 0.5, rel_tol=1e-18) else round(value)\n",
    "\n",
    "@staticmethod\n",
    "def round_to_even(value: Real) -> int:\n",
    "    return round(value)\n",
    "\n",
    "@staticmethod\n",
    "def round_to_odd(value: Real) -> int:\n",
    "    return round(value)\n",
    "\n",
    "# DeFixedInt Class:\n",
    "\n",
    "@dataclass\n",
    "class DeFixedInt:\n",
    "\n",
    "    init_value:    Real = 0\n",
    "    int_width:     int  = 0\n",
    "    frac_width:    int  = 15\n",
    "    signed_mode:   str  = 'S'\n",
    "    round_func:    Callable[[Real], int] = field(default=truncate)\n",
    "    saturate_func: Callable[[int, tuple[int, int]], int] = field(default=saturate)\n",
    "\n",
    "    def __post_init__(self):\n",
    "        if self.int_width < 0 and abs(self.int_width) >= self.frac_width:\n",
    "            raise ValueError(\"Integer width needs to be >= -(fractional width)!\")\n",
    "        if self.frac_width < 0:\n",
    "            raise ValueError(\"Fractional width needs to be >= 0!\")\n",
    "        if self.signed_mode not in {'S', 'U'}:\n",
    "            raise ValueError(f\"Signed mode '{self.signed_mode}' not supported!\")\n",
    "        self.value = self.init_value\n",
    "    \n",
    "    @property\n",
    "    def value(self) -> int:\n",
    "        return self.__value\n",
    "    \n",
    "    @value.setter\n",
    "    def value(self, value) -> None:\n",
    "        aux = value * (2.0 ** self.frac_width)\n",
    "        aux = self.round_func(aux)\n",
    "        self.__value = self.saturate_func(aux, self.range)\n",
    "\n",
    "    @property\n",
    "    def fvalue(self) -> float:\n",
    "        return self.__value / (2.0 ** self.frac_width)\n",
    "    \n",
    "    @property\n",
    "    def width(self) -> int:\n",
    "        return self.int_width + self.frac_width + 1\n",
    "\n",
    "    @property\n",
    "    def range(self) -> tuple[int, int]:\n",
    "        max_lim =  2 ** (self.width - int(self.signed_mode == 'S')) - 1\n",
    "        min_lim = -2 ** (self.width - 1) * int(self.signed_mode == 'S')\n",
    "        return (min_lim, max_lim)\n",
    "    \n",
    "    def __repr__(self) -> str:\n",
    "        return f\"<{self.value} ({self.fvalue:.3f}) {self.signed_mode}({self.int_width + self.frac_width},{self.frac_width})>\"\n",
    "\n",
    "    def __index__(self) -> int:\n",
    "        return self.value\n",
    "    \n",
    "    def __eq__(self, other: DeFixedInt) -> bool:\n",
    "        return math.isclose(self.fvalue, other.fvalue, rel_tol=0.0, abs_tol=0.0)\n",
    "\n",
    "    def __lt__(self, other: DeFixedInt) -> bool:\n",
    "        return self.fvalue < other.fvalue\n",
    "\n",
    "    def __le__(self, other: DeFixedInt) -> bool:\n",
    "        return self.fvalue <= other.fvalue\n",
    "\n",
    "    def __gt__(self, other: DeFixedInt) -> bool:\n",
    "        return self.fvalue > other.fvalue\n",
    "\n",
    "    def __ge__(self, other: DeFixedInt) -> bool:\n",
    "        return self.fvalue >= other.fvalue\n",
    "\n",
    "    def __add__(self, other: DeFixedInt) -> DeFixedInt:\n",
    "        ret = DeFixedInt(int_width     = max(self.int_width, other.int_width) + 1,\n",
    "                         frac_width    = max(self.frac_width, other.frac_width),\n",
    "                         signedMode    = self.signed_mode,\n",
    "                         round_func    = self.round_func,\n",
    "                         saturate_func = self.saturate_func)\n",
    "        ret.value = self.fvalue + other.fvalue\n",
    "        return ret\n",
    "    \n",
    "    def __sub__(self, other: DeFixedInt) -> DeFixedInt:\n",
    "        ret = DeFixedInt(int_width     = max(self.int_width, other.int_width) + 1,\n",
    "                         frac_width    = max(self.frac_width, other.frac_width),\n",
    "                         signed_mode   = self.signed_mode,\n",
    "                         round_func    = self.round_func,\n",
    "                         saturate_func = self.saturate_func)\n",
    "        ret.value = self.fvalue - other.fvalue\n",
    "        return ret\n",
    "\n",
    "    def __mul__(self, other: DeFixedInt) -> DeFixedInt:\n",
    "        ret = DeFixedInt(int_width     = self.int_width + other.int_width,\n",
    "                         frac_width    = self.frac_width + other.frac_width,\n",
    "                         signedMode    = self.signed_mode,\n",
    "                         round_func    = self.round_func,\n",
    "                         saturate_func = self.saturate_func)\n",
    "        ret.value = self.fvalue * other.fvalue\n",
    "        return ret\n"
   ]
  },
  {
   "cell_type": "code",
   "execution_count": 73,
   "id": "5ff65a6f",
   "metadata": {},
   "outputs": [
    {
     "data": {
      "text/plain": [
       "6"
      ]
     },
     "execution_count": 73,
     "metadata": {},
     "output_type": "execute_result"
    }
   ],
   "source": [
    "a = DeFixedInt(2.32, 2, 3)\n",
    "a.range\n",
    "a.value\n",
    "a.width"
   ]
  }
 ],
 "metadata": {
  "kernelspec": {
   "display_name": "dsp",
   "language": "python",
   "name": "python3"
  },
  "language_info": {
   "codemirror_mode": {
    "name": "ipython",
    "version": 3
   },
   "file_extension": ".py",
   "mimetype": "text/x-python",
   "name": "python",
   "nbconvert_exporter": "python",
   "pygments_lexer": "ipython3",
   "version": "3.13.7"
  }
 },
 "nbformat": 4,
 "nbformat_minor": 5
}
